{
 "cells": [
  {
   "cell_type": "code",
   "execution_count": null,
   "id": "e92b7b74-b83f-4f15-a67b-064c4251c568",
   "metadata": {},
   "outputs": [],
   "source": []
  }
 ],
 "metadata": {
  "kernelspec": {
   "display_name": "",
   "name": ""
  },
  "language_info": {
   "name": ""
  }
 },
 "nbformat": 4,
 "nbformat_minor": 5
}
